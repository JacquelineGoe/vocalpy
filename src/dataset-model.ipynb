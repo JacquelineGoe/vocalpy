{
 "cells": [
  {
   "cell_type": "markdown",
   "id": "d05e26b0-96ed-4154-aa6b-7f87fface60c",
   "metadata": {},
   "source": [
    "The goal is to define the model as separate from the database."
   ]
  },
  {
   "cell_type": "code",
   "execution_count": 2,
   "id": "0e51d8db-549e-414a-ac83-14f7caf7364b",
   "metadata": {},
   "outputs": [],
   "source": [
    "import pathlib\n",
    "\n",
    "import attrs"
   ]
  },
  {
   "cell_type": "code",
   "execution_count": 3,
   "id": "b46f1d78-9c27-4cb0-a3d5-1330baeac067",
   "metadata": {},
   "outputs": [],
   "source": [
    "@attrs.define\n",
    "class AudioFile:\n",
    "    path: pathlib.Path = attrs.field()"
   ]
  },
  {
   "cell_type": "code",
   "execution_count": 4,
   "id": "4676f915-91ce-4bb3-a862-2368ffcfc1d9",
   "metadata": {},
   "outputs": [],
   "source": [
    "@attrs.define\n",
    "class SpectrogramFile:\n",
    "    path: pathlib.Path = attrs.field()\n",
    "    source_audio_file: AudioFile = attrs.field()"
   ]
  },
  {
   "cell_type": "code",
   "execution_count": null,
   "id": "0c14ab6e-06d2-4841-acc8-010ede8434d0",
   "metadata": {},
   "outputs": [],
   "source": [
    "@attrs.define\n",
    "class AnnotationFile:\n",
    "    path: pathlib.Path = attrs.field()\n",
    "    annotates: Union[AudioFile | SpectrogramFile]"
   ]
  },
  {
   "cell_type": "code",
   "execution_count": null,
   "id": "6235ed3f-038a-4cd8-b923-1436cbbb2809",
   "metadata": {},
   "outputs": [],
   "source": [
    "@attrs.define\n",
    "class Dataset:\n",
    "    audio_files: list[AudioFile]\n",
    "    spectrogram_files: list[SpectrogramFile]\n",
    "    annotation_files: list[AnnotationFile]\n",
    "    \n",
    "    @classmethod\n",
    "    def from_dir(audio_ext='wav', spect_ext='npz', annot_ext='csv', \n",
    "                 audio_spect_mapper=None, ):\n",
    "        "
   ]
  }
 ],
 "metadata": {
  "kernelspec": {
   "display_name": "Python 3 (ipykernel)",
   "language": "python",
   "name": "python3"
  },
  "language_info": {
   "codemirror_mode": {
    "name": "ipython",
    "version": 3
   },
   "file_extension": ".py",
   "mimetype": "text/x-python",
   "name": "python",
   "nbconvert_exporter": "python",
   "pygments_lexer": "ipython3",
   "version": "3.7.4"
  }
 },
 "nbformat": 4,
 "nbformat_minor": 5
}
